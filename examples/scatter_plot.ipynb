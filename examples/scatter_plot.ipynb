{
 "cells": [
  {
   "cell_type": "markdown",
   "metadata": {},
   "source": [
    "## Scatterplots with MatPlus"
   ]
  },
  {
   "cell_type": "markdown",
   "metadata": {},
   "source": [
    "### Simple Scatterplot"
   ]
  },
  {
   "cell_type": "code",
   "execution_count": 1,
   "metadata": {},
   "outputs": [
    {
     "name": "stderr",
     "output_type": "stream",
     "text": [
      "/Users/raoki/MatPlus/MatPlus/ScatterPlot.py:126: UserWarning: No data for colormapping provided via 'c'. Parameters 'vmin', 'vmax' will be ignored\n",
      "  ax.scatter(self.x, self.y, s=20, vmin=self.vmin, vmax=self.vmax)\n"
     ]
    },
    {
     "data": {
      "image/png": "[encoded data removed]",
      "text/plain": [
       "<Figure size 200x200 with 1 Axes>"
      ]
     },
     "metadata": {},
     "output_type": "display_data"
    }
   ],
   "source": [
    "import numpy as np\n",
    "from MatPlus import ScatterPlot\n",
    "\n",
    "# Create data\n",
    "x = np.array([1, 2, 3, 4, 5])\n",
    "y = np.array([1, 4, 9, 16, 25])\n",
    "\n",
    "# Create and display basic scatter plot\n",
    "scatter = ScatterPlot(x, y)\n",
    "scatter.plot()"
   ]
  },
  {
   "cell_type": "markdown",
   "metadata": {},
   "source": [
    "### Advanced Scatterplot"
   ]
  },
  {
   "cell_type": "code",
   "execution_count": null,
   "metadata": {},
   "outputs": [],
   "source": [
    "import numpy as np\n",
    "from MatPlus import ScatterPlot\n",
    "\n",
    "# Create data\n",
    "x = np.linspace(0, 10, 20)\n",
    "y = np.sin(x) + np.random.normal(0, 0.2, 20)\n",
    "\n",
    "# Scatter plot with varying point sizes\n",
    "sizes = np.linspace(10, 100, 20)\n",
    "scatter = ScatterPlot(x, y, sizes=sizes,width=5,height=3)\n",
    "scatter.plot()\n",
    "\n",
    "# Scatter plot with color gradient\n",
    "colors = np.linspace(0, 1, 20)\n",
    "scatter = ScatterPlot(x, y, colors=colors, vmin=0, vmax=1)\n",
    "scatter.plot()\n",
    "\n",
    "# Scatter plot with custom axis limits\n",
    "scatter = ScatterPlot(x, y, lowerlimx=-1, upperlimx=11, lowerlimy=-2, upperlimy=2)\n",
    "scatter.plot()"
   ]
  }
 ],
 "metadata": {
  "kernelspec": {
   "display_name": "myenv",
   "language": "python",
   "name": "python3"
  },
  "language_info": {
   "codemirror_mode": {
    "name": "ipython",
    "version": 3
   },
   "file_extension": ".py",
   "mimetype": "text/x-python",
   "name": "python",
   "nbconvert_exporter": "python",
   "pygments_lexer": "ipython3",
   "version": "3.9.18"
  }
 },
 "nbformat": 4,
 "nbformat_minor": 2
}
